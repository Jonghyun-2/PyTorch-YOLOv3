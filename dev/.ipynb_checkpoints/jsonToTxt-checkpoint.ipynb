{
 "cells": [
  {
   "cell_type": "code",
   "execution_count": 12,
   "id": "dressed-bandwidth",
   "metadata": {},
   "outputs": [],
   "source": [
    "import json\n",
    "import cv2\n",
    "import matplotlib.pyplot as plt\n",
    "import numpy as np\n",
    "import pandas as pd\n",
    "import os\n",
    "import glob \n",
    "\n",
    "ROOT_IMAGE = r'D:/business/ADAS/sign/mapillary_data/images'\n",
    "ROOT_ANNO = r'D:/business/ADAS/sign/mapillary_data/mtsd_v2_fully_annotated/annotations'\n",
    "ROOT_LABEL = r'D:/business/ADAS/sign/mapillary_data/labels'"
   ]
  },
  {
   "cell_type": "code",
   "execution_count": 25,
   "id": "thermal-scene",
   "metadata": {},
   "outputs": [],
   "source": [
    "anno_paths = glob.glob(ROOT_ANNO + os.sep + \"*.json\")\n",
    "img_paths = glob.glob(ROOT_IMAGE + os.sep + \"*.jpg\")"
   ]
  },
  {
   "cell_type": "code",
   "execution_count": 41,
   "id": "national-testing",
   "metadata": {},
   "outputs": [],
   "source": [
    "for idx, anno_path in enumerate(anno_paths):\n",
    "    objs = []\n",
    "    norm_list = []\n",
    "    filename = \"\"\n",
    "    cls_ = 0\n",
    "    # read json\n",
    "    with open(anno_path, \"r\") as json_data:\n",
    "        filename = anno_path.split(os.sep)[-1]\n",
    "        \n",
    "        datas = json.load(json_data)\n",
    "        w = datas[\"width\"]\n",
    "        h = datas[\"height\"]\n",
    "        objs = datas[\"objects\"]\n",
    "        for obj in objs:\n",
    "            xmin = obj[\"bbox\"][\"xmin\"]\n",
    "            ymin = obj[\"bbox\"][\"ymin\"]\n",
    "            xmax = obj[\"bbox\"][\"xmax\"]\n",
    "            ymax = obj[\"bbox\"][\"ymax\"]\n",
    "            \n",
    "            center_x = (xmax + xmin) / 2 \n",
    "            center_y = (ymax + ymin) / 2 \n",
    "            \n",
    "            bbox_width = abs(xmax - xmin)\n",
    "            bbox_height = abs(ymax - ymin)\n",
    "            \n",
    "            norm_width = bbox_width / w\n",
    "            norm_height = bbox_height / h\n",
    "            \n",
    "            norm_center_x = center_x / w\n",
    "            norm_center_y = center_y / h\n",
    "            norm_list.append([cls_, norm_center_x, norm_center_y, norm_width, norm_height])\n",
    "            \n",
    "    # write txt\n",
    "    filename_txt = filename.replace(\"json\", \"txt\")\n",
    "    txt_dst = ROOT_LABEL + os.sep + filename_txt\n",
    "    \n",
    "    f = open(txt_dst , 'w')\n",
    "    for c, x, y, w, h in norm_list:\n",
    "        data = \"{} {} {} {} {}\\n\".format(c,x,y,w,h)\n",
    "        f.write(data)\n",
    "    f.close()\n",
    "    if idx > 10:\n",
    "        break\n",
    "\n",
    "\n",
    "\n",
    "\n",
    "\n"
   ]
  },
  {
   "cell_type": "code",
   "execution_count": 17,
   "id": "sweet-correspondence",
   "metadata": {},
   "outputs": [
    {
     "data": {
      "text/plain": [
       "'D:/business/ADAS/sign/mapillary_data/mtsd_v2_fully_annotated/annotations\\\\--48MAqc82-bZdgGpaiexA.json'"
      ]
     },
     "execution_count": 17,
     "metadata": {},
     "output_type": "execute_result"
    }
   ],
   "source": [
    "anno_path"
   ]
  },
  {
   "cell_type": "code",
   "execution_count": 37,
   "id": "respective-controversy",
   "metadata": {},
   "outputs": [
    {
     "data": {
      "text/plain": [
       "{'width': 4032,\n",
       " 'height': 2268,\n",
       " 'ispano': False,\n",
       " 'objects': [{'key': 'g2jvn1e71dthtisb6ocia7',\n",
       "   'label': 'other-sign',\n",
       "   'bbox': {'xmin': 2337.890625,\n",
       "    'ymin': 1440.2021484375,\n",
       "    'xmax': 2382.1875,\n",
       "    'ymax': 1459.0283203125},\n",
       "   'properties': {'barrier': False,\n",
       "    'occluded': False,\n",
       "    'out-of-frame': False,\n",
       "    'exterior': False,\n",
       "    'ambiguous': True,\n",
       "    'included': False,\n",
       "    'direction-or-information': False,\n",
       "    'highway': False,\n",
       "    'dummy': False}},\n",
       "  {'key': '2jh3vbxonkjilijxkhn6rz',\n",
       "   'label': 'warning--crossroads--g3',\n",
       "   'bbox': {'xmin': 2334.9375,\n",
       "    'ymin': 1393.13671875,\n",
       "    'xmax': 2382.1875,\n",
       "    'ymax': 1439.0947265625},\n",
       "   'properties': {'barrier': False,\n",
       "    'occluded': False,\n",
       "    'out-of-frame': False,\n",
       "    'exterior': False,\n",
       "    'ambiguous': False,\n",
       "    'included': False,\n",
       "    'direction-or-information': False,\n",
       "    'highway': False,\n",
       "    'dummy': False}}]}"
      ]
     },
     "execution_count": 37,
     "metadata": {},
     "output_type": "execute_result"
    }
   ],
   "source": [
    "datas"
   ]
  },
  {
   "cell_type": "code",
   "execution_count": null,
   "id": "australian-supplier",
   "metadata": {},
   "outputs": [],
   "source": []
  }
 ],
 "metadata": {
  "kernelspec": {
   "display_name": "Python 3",
   "language": "python",
   "name": "python3"
  },
  "language_info": {
   "codemirror_mode": {
    "name": "ipython",
    "version": 3
   },
   "file_extension": ".py",
   "mimetype": "text/x-python",
   "name": "python",
   "nbconvert_exporter": "python",
   "pygments_lexer": "ipython3",
   "version": "3.7.9"
  }
 },
 "nbformat": 4,
 "nbformat_minor": 5
}
